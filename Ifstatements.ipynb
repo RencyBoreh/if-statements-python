{
 "cells": [
  {
   "cell_type": "code",
   "execution_count": 5,
   "id": "1e1c716d-f1aa-4462-8d58-bbae0f5f915e",
   "metadata": {},
   "outputs": [
    {
     "name": "stdin",
     "output_type": "stream",
     "text": [
      "Enter Your Age: -1\n"
     ]
    },
    {
     "name": "stdout",
     "output_type": "stream",
     "text": [
      "You are not born yet!\n"
     ]
    }
   ],
   "source": [
    "age=int(input(\"Enter Your Age:\"))\n",
    "if age>100:\n",
    "    print(\"You are too old to Sign in\")\n",
    "elif age>=18:\n",
    "    print(\"You can Sign In \")\n",
    "elif age<0:\n",
    "    print(\"You are not born yet!\")\n",
    "elif age<=17:\n",
    "    print(\"You must be 18+ to Sign In\")\n",
    "else:\n",
    "    print(\"Please Enter Your Age\")\n",
    "    "
   ]
  },
  {
   "cell_type": "code",
   "execution_count": null,
   "id": "dc9f984f-9b0d-4ad9-9b10-43d3fa0cf9e9",
   "metadata": {},
   "outputs": [],
   "source": []
  }
 ],
 "metadata": {
  "kernelspec": {
   "display_name": "Python 3 (ipykernel)",
   "language": "python",
   "name": "python3"
  },
  "language_info": {
   "codemirror_mode": {
    "name": "ipython",
    "version": 3
   },
   "file_extension": ".py",
   "mimetype": "text/x-python",
   "name": "python",
   "nbconvert_exporter": "python",
   "pygments_lexer": "ipython3",
   "version": "3.12.4"
  }
 },
 "nbformat": 4,
 "nbformat_minor": 5
}
